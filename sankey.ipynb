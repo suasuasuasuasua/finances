{
 "cells": [
  {
   "cell_type": "markdown",
   "metadata": {},
   "source": [
    "# Sankey Income and Budget Tracker"
   ]
  },
  {
   "cell_type": "markdown",
   "metadata": {},
   "source": [
    "## Imports"
   ]
  },
  {
   "cell_type": "code",
   "execution_count": 1,
   "metadata": {},
   "outputs": [
    {
     "data": {
      "text/plain": [
       "True"
      ]
     },
     "execution_count": 1,
     "metadata": {},
     "output_type": "execute_result"
    }
   ],
   "source": [
    "import datetime\n",
    "import os\n",
    "from pathlib import Path\n",
    "\n",
    "import dotenv\n",
    "import pandas as pd\n",
    "import plotly.graph_objects as go\n",
    "\n",
    "dotenv.load_dotenv()"
   ]
  },
  {
   "cell_type": "markdown",
   "metadata": {},
   "source": [
    "## Setup\n",
    "\n",
    "Sankey diagrams are basically fancy graphs that show the flow of data, money, or\n",
    "anything into sub-buckets. Generally, the charts flow in only one direction, so\n",
    "these could be considered directed acyclic graphs (DAG).\n",
    "\n",
    "See [sankeymatic](https://sankeymatic.com) for an example. They use a DSL\n",
    "similar to the following.\n",
    "\n",
    "```text\n",
    "nodeA -> [label1,value1] -> nodeB\n",
    "nodeB -> [label2,value2] -> nodeC\n",
    "...\n",
    "```\n",
    "\n",
    "[See this answer on how to format the\n",
    "DataFrame](https://stackoverflow.com/a/55468928) for the Sankey diagrams."
   ]
  },
  {
   "cell_type": "code",
   "execution_count": 2,
   "metadata": {},
   "outputs": [],
   "source": [
    "node_df = pd.DataFrame([], columns=[\"Label\", \"Color\"])\n",
    "link_df = pd.DataFrame([], columns=[\"Source\", \"Target\", \"Value\", \"Link Color\"])"
   ]
  },
  {
   "cell_type": "code",
   "execution_count": 3,
   "metadata": {},
   "outputs": [],
   "source": [
    "def add_node_label(\n",
    "    df: pd.DataFrame,\n",
    "    label: str,\n",
    "    color: str,\n",
    ") -> None:\n",
    "    df.loc[len(df)] = {\"Label\": label, \"Color\": color}\n",
    "\n",
    "\n",
    "def add_node_connection(\n",
    "    node_df: pd.DataFrame,\n",
    "    link_df: pd.DataFrame,\n",
    "    source: str,\n",
    "    target: str,\n",
    "    value: float,\n",
    ") -> None:\n",
    "    # TODO: should we handle this error?\n",
    "    source_idx = node_df.loc[node_df[\"Label\"] == source].index.item()\n",
    "    target_idx = node_df.loc[node_df[\"Label\"] == target].index.item()\n",
    "\n",
    "    link_df.loc[len(link_df)] = {\n",
    "        \"Source\": source_idx,\n",
    "        \"Target\": target_idx,\n",
    "        \"Value\": value,\n",
    "    }"
   ]
  },
  {
   "cell_type": "markdown",
   "metadata": {},
   "source": [
    "## Income\n",
    "\n",
    "Add any other sources of income than primary job"
   ]
  },
  {
   "cell_type": "markdown",
   "metadata": {},
   "source": [
    "### Salary"
   ]
  },
  {
   "cell_type": "code",
   "execution_count": 4,
   "metadata": {},
   "outputs": [],
   "source": [
    "weekly_salary = float(os.getenv(\"WEEKLY_SALARY\"))\n",
    "monthly_salary = weekly_salary * 4\n",
    "\n",
    "weekly_net_pay = float(os.getenv(\"WEEKLY_NET_PAY\"))\n",
    "monthly_net_pay = weekly_net_pay * 4  # sadge"
   ]
  },
  {
   "cell_type": "code",
   "execution_count": 5,
   "metadata": {},
   "outputs": [],
   "source": [
    "salary_color = \"blue\"\n",
    "\n",
    "# Add the node labels\n",
    "add_node_label(node_df, label=\"Salary\", color=salary_color)\n",
    "add_node_label(node_df, label=\"Income\", color=salary_color)\n",
    "\n",
    "add_node_connection(\n",
    "    node_df,\n",
    "    link_df,\n",
    "    source=\"Salary\",\n",
    "    target=\"Income\",\n",
    "    value=monthly_salary,\n",
    ")\n",
    "\n",
    "add_node_label(node_df, label=\"Net Income\", color=salary_color)\n",
    "add_node_connection(\n",
    "    node_df,\n",
    "    link_df,\n",
    "    source=\"Income\",\n",
    "    target=\"Net Income\",\n",
    "    value=monthly_net_pay,\n",
    ")"
   ]
  },
  {
   "cell_type": "markdown",
   "metadata": {},
   "source": [
    "## Taxes"
   ]
  },
  {
   "cell_type": "code",
   "execution_count": 6,
   "metadata": {},
   "outputs": [],
   "source": [
    "weekly_taxes = float(os.getenv(\"WEEKLY_TAXES\"))\n",
    "monthly_taxes = weekly_taxes * 4\n",
    "\n",
    "weekly_taxes_fed_witholding = float(os.getenv(\"WEEKLY_TAXES_FED_WITHOLDING\"))\n",
    "monthly_taxes_fed_witholding = weekly_taxes_fed_witholding * 4\n",
    "\n",
    "weekly_taxes_fed_fica = float(os.getenv(\"WEEKLY_TAXES_FED_FICA\"))\n",
    "monthly_taxes_fed_fica = weekly_taxes_fed_fica * 4\n",
    "\n",
    "weekly_taxes_fed_oasdi = float(os.getenv(\"WEEKLY_TAXES_FED_OASDI\"))\n",
    "monthly_taxes_fed_oasdi = weekly_taxes_fed_oasdi * 4\n",
    "\n",
    "weekly_taxes_co_leave = float(os.getenv(\"WEEKLY_TAXES_CO_LEAVE\"))\n",
    "monthly_taxes_co_leave = weekly_taxes_co_leave * 4\n",
    "\n",
    "weekly_taxes_co_witholding = float(os.getenv(\"WEEKLY_TAXES_CO_WITHOLDING\"))\n",
    "monthly_taxes_co_witholding = weekly_taxes_co_witholding * 4"
   ]
  },
  {
   "cell_type": "code",
   "execution_count": 7,
   "metadata": {},
   "outputs": [],
   "source": [
    "# Taxes Group\n",
    "taxes_color = \"red\"\n",
    "\n",
    "# Add the node labels\n",
    "add_node_label(node_df, label=\"Taxes\", color=taxes_color)\n",
    "add_node_connection(\n",
    "    node_df,\n",
    "    link_df,\n",
    "    source=\"Income\",\n",
    "    target=\"Taxes\",\n",
    "    value=monthly_taxes,\n",
    ")\n",
    "\n",
    "# add_node_label(node_df, label=\"Taxes [Federal Witholding]\", color=taxes_color)\n",
    "# add_node_connection(\n",
    "#     node_df,\n",
    "#     link_df,\n",
    "#     source=\"Taxes\",\n",
    "#     target=\"Taxes [Federal Witholding]\",\n",
    "#     value=monthly_taxes_fed_witholding,\n",
    "# )\n",
    "\n",
    "# add_node_label(node_df, label=\"Taxes [Federal FICA]\", color=taxes_color)\n",
    "# add_node_connection(\n",
    "#     node_df,\n",
    "#     link_df,\n",
    "#     source=\"Taxes\",\n",
    "#     target=\"Taxes [Federal FICA]\",\n",
    "#     value=monthly_taxes_fed_fica,\n",
    "# )\n",
    "\n",
    "# add_node_label(node_df, label=\"Taxes [Federal OASDI]\", color=taxes_color)\n",
    "# add_node_connection(\n",
    "#     node_df,\n",
    "#     link_df,\n",
    "#     source=\"Taxes\",\n",
    "#     target=\"Taxes [Federal OASDI]\",\n",
    "#     value=monthly_taxes_fed_oasdi,\n",
    "# )\n",
    "\n",
    "# add_node_label(node_df, label=\"Taxes [CO Parental Leave]\", color=taxes_color)\n",
    "# add_node_connection(\n",
    "#     node_df,\n",
    "#     link_df,\n",
    "#     source=\"Taxes\",\n",
    "#     target=\"Taxes [CO Parental Leave]\",\n",
    "#     value=monthly_taxes_co_leave,\n",
    "# )\n",
    "\n",
    "# add_node_label(node_df, label=\"Taxes [CO Witholding]\", color=taxes_color)\n",
    "# add_node_connection(\n",
    "#     node_df,\n",
    "#     link_df,\n",
    "#     source=\"Taxes\",\n",
    "#     target=\"Taxes [CO Witholding]\",\n",
    "#     value=monthly_taxes_co_witholding,\n",
    "# )"
   ]
  },
  {
   "cell_type": "markdown",
   "metadata": {},
   "source": [
    "## Benefits"
   ]
  },
  {
   "cell_type": "code",
   "execution_count": 8,
   "metadata": {},
   "outputs": [],
   "source": [
    "weekly_dental = float(os.getenv(\"WEEKLY_DENTAL\"))\n",
    "monthly_dental = weekly_dental * 4\n",
    "\n",
    "weekly_vision = float(os.getenv(\"WEEKLY_VISION\"))\n",
    "monthly_vision = weekly_vision * 4\n"
   ]
  },
  {
   "cell_type": "markdown",
   "metadata": {},
   "source": [
    "### Retirement and Savings"
   ]
  },
  {
   "cell_type": "code",
   "execution_count": 9,
   "metadata": {},
   "outputs": [],
   "source": [
    "weekly_401k_pretax = float(os.getenv(\"WEEKLY_401K_PRETAX\")) # before tax\n",
    "monthly_401k_pretax = weekly_401k_pretax * 4\n",
    "\n",
    "weekly_401k_roth = float(os.getenv(\"WEEKLY_401K_ROTH\"))  # after tax\n",
    "monthly_401k_roth = weekly_401k_roth * 4\n",
    "\n",
    "monthly_401k = monthly_401k_pretax + monthly_401k_roth\n",
    "\n",
    "# accumulate the net benefits value\n",
    "monthly_benefits = sum([\n",
    "    monthly_dental, monthly_vision, monthly_401k,\n",
    "])"
   ]
  },
  {
   "cell_type": "code",
   "execution_count": 10,
   "metadata": {},
   "outputs": [],
   "source": [
    "weekly_roth_ira = float(os.getenv(\"WEEKLY_ROTH_IRA\")) # after tax\n",
    "monthly_roth_ira = weekly_roth_ira * 4  # after tax\n",
    "\n",
    "weekly_savings_hysa = float(os.getenv(\"WEEKLY_SAVINGS_HYSA\"))  # big nose max -- just whatever i don't spend\n",
    "monthly_savings_hysa = weekly_savings_hysa * 4\n",
    "\n",
    "# accumulate the net savings (post-tax and benefits)\n",
    "monthly_savings_net = sum([\n",
    "    monthly_roth_ira, monthly_savings_hysa]\n",
    ")"
   ]
  },
  {
   "cell_type": "code",
   "execution_count": 11,
   "metadata": {},
   "outputs": [],
   "source": [
    "benefits_color = \"orange\"\n",
    "\n",
    "# Add the node labels\n",
    "add_node_label(node_df, label=\"Benefits\", color=benefits_color)\n",
    "add_node_connection(\n",
    "    node_df,\n",
    "    link_df,\n",
    "    source=\"Income\",\n",
    "    target=\"Benefits\",\n",
    "    value=monthly_benefits,\n",
    ")\n",
    "\n",
    "add_node_label(node_df, label=\"Dental\", color=benefits_color)\n",
    "add_node_connection(\n",
    "    node_df,\n",
    "    link_df,\n",
    "    source=\"Benefits\",\n",
    "    target=\"Dental\",\n",
    "    value=monthly_dental,\n",
    ")\n",
    "\n",
    "add_node_label(node_df, label=\"Vision\", color=benefits_color)\n",
    "add_node_connection(\n",
    "    node_df,\n",
    "    link_df,\n",
    "    source=\"Benefits\",\n",
    "    target=\"Vision\",\n",
    "    value=monthly_vision,\n",
    ")"
   ]
  },
  {
   "cell_type": "code",
   "execution_count": 12,
   "metadata": {},
   "outputs": [],
   "source": [
    "# 401k group\n",
    "savings_color = \"green\"\n",
    "\n",
    "add_node_label(node_df, label=\"401k\", color=savings_color)\n",
    "add_node_connection(\n",
    "    node_df,\n",
    "    link_df,\n",
    "    source=\"Benefits\",\n",
    "    target=\"401k\",\n",
    "    value=monthly_401k,\n",
    ")\n",
    "\n",
    "add_node_label(node_df, label=\"401k Pre-tax\", color=savings_color)\n",
    "add_node_connection(\n",
    "    node_df,\n",
    "    link_df,\n",
    "    source=\"401k\",\n",
    "    target=\"401k Pre-tax\",\n",
    "    value=monthly_401k_pretax,\n",
    ")\n",
    "\n",
    "add_node_label(node_df, label=\"401k Roth\", color=savings_color)\n",
    "add_node_connection(\n",
    "    node_df,\n",
    "    link_df,\n",
    "    source=\"401k\",  # comes out post-tax!\n",
    "    target=\"401k Roth\",\n",
    "    value=monthly_401k_roth,\n",
    ")\n",
    "\n",
    "add_node_label(node_df, label=\"Net Savings\", color=savings_color)\n",
    "add_node_connection(\n",
    "    node_df,\n",
    "    link_df,\n",
    "    source=\"Net Income\",\n",
    "    target=\"Net Savings\",\n",
    "    value=monthly_savings_net,\n",
    ")\n",
    "\n",
    "add_node_label(node_df, label=\"HYSA\", color=savings_color)\n",
    "add_node_connection(\n",
    "    node_df,\n",
    "    link_df,\n",
    "    source=\"Net Savings\",\n",
    "    target=\"HYSA\",\n",
    "    value=monthly_savings_hysa,\n",
    ")\n",
    "\n",
    "add_node_label(node_df, label=\"Roth IRA\", color=savings_color)\n",
    "add_node_connection(\n",
    "    node_df,\n",
    "    link_df,\n",
    "    source=\"Net Savings\",  # comes out post-tax!\n",
    "    target=\"Roth IRA\",\n",
    "    value=monthly_roth_ira,\n",
    ")"
   ]
  },
  {
   "cell_type": "markdown",
   "metadata": {},
   "source": [
    "## Expenses"
   ]
  },
  {
   "cell_type": "code",
   "execution_count": 13,
   "metadata": {},
   "outputs": [],
   "source": [
    "monthly_gas = float(os.getenv(\"MONTHLY_GAS\"))\n",
    "\n",
    "weekly_dates = float(os.getenv(\"WEEKLY_DATES\"))  # for katelyn and i (includes food (not double counting))\n",
    "monthly_dates = weekly_dates * 4\n",
    "\n",
    "weekly_food = float(os.getenv(\"WEEKLY_FOOD\"))  # for myself or others\n",
    "monthly_food = weekly_food * 4\n",
    "\n",
    "monthly_misc = float(os.getenv(\"MONTHLY_MISC\"))  # hard to estimate"
   ]
  },
  {
   "cell_type": "code",
   "execution_count": 14,
   "metadata": {},
   "outputs": [],
   "source": [
    "# TODO: fill out estimated expenses\n",
    "expenses_color = \"yellow\"\n",
    "subscriptions_color = \"purple\"\n",
    "\n",
    "# Expenses group\n",
    "add_node_label(node_df, label=\"Gas\", color=expenses_color)\n",
    "add_node_connection(\n",
    "    node_df,\n",
    "    link_df,\n",
    "    source=\"Net Income\",\n",
    "    target=\"Gas\",\n",
    "    value=monthly_gas,\n",
    ")\n",
    "\n",
    "add_node_label(node_df, label=\"Dates\", color=expenses_color)\n",
    "add_node_connection(\n",
    "    node_df,\n",
    "    link_df,\n",
    "    source=\"Net Income\",\n",
    "    target=\"Dates\",\n",
    "    value=monthly_dates,\n",
    ")\n",
    "\n",
    "add_node_label(node_df, label=\"Misc\", color=expenses_color)\n",
    "add_node_connection(\n",
    "    node_df,\n",
    "    link_df,\n",
    "    source=\"Net Income\",\n",
    "    target=\"Misc\",\n",
    "    value=monthly_misc,\n",
    ")\n",
    "\n",
    "add_node_label(node_df, label=\"Food\", color=expenses_color)\n",
    "add_node_connection(\n",
    "    node_df,\n",
    "    link_df,\n",
    "    source=\"Net Income\",\n",
    "    target=\"Food\",\n",
    "    value=monthly_food,\n",
    ")"
   ]
  },
  {
   "cell_type": "markdown",
   "metadata": {},
   "source": [
    "### Subscriptions"
   ]
  },
  {
   "cell_type": "code",
   "execution_count": 15,
   "metadata": {},
   "outputs": [],
   "source": [
    "monthly_icloud = float(os.getenv(\"MONTHLY_ICLOUD\"))\n",
    "monthly_audible = float(os.getenv(\"MONTHLY_AUDIBLE\"))\n",
    "\n",
    "monthly_subscriptions = sum(\n",
    "    [\n",
    "        monthly_icloud,\n",
    "        monthly_audible,\n",
    "    ]\n",
    ")"
   ]
  },
  {
   "cell_type": "code",
   "execution_count": 16,
   "metadata": {},
   "outputs": [],
   "source": [
    "add_node_label(node_df, label=\"Subscriptions\", color=subscriptions_color)\n",
    "add_node_connection(\n",
    "    node_df,\n",
    "    link_df,\n",
    "    source=\"Net Income\",\n",
    "    target=\"Subscriptions\",\n",
    "    value=monthly_subscriptions,\n",
    ")\n",
    "\n",
    "add_node_label(node_df, label=\"iCloud\", color=subscriptions_color)\n",
    "add_node_connection(\n",
    "    node_df,\n",
    "    link_df,\n",
    "    source=\"Subscriptions\",\n",
    "    target=\"iCloud\",\n",
    "    value=monthly_icloud,\n",
    ")\n",
    "\n",
    "add_node_label(node_df, label=\"Audible\", color=subscriptions_color)\n",
    "add_node_connection(\n",
    "    node_df,\n",
    "    link_df,\n",
    "    source=\"Subscriptions\",\n",
    "    target=\"Audible\",\n",
    "    value=monthly_audible,\n",
    ")"
   ]
  },
  {
   "cell_type": "markdown",
   "metadata": {},
   "source": [
    "## Plot"
   ]
  },
  {
   "cell_type": "code",
   "execution_count": 17,
   "metadata": {},
   "outputs": [
    {
     "data": {
      "application/vnd.plotly.v1+json": {
       "config": {
        "plotlyServerURL": "https://plot.ly"
       },
       "data": [
        {
         "arrangement": "snap",
         "link": {
          "source": {
           "bdata": "AAEBAQQEBAcHAgoKAgICAgIREQ==",
           "dtype": "i1"
          },
          "target": {
           "bdata": "AQIDBAUGBwgJCgsMDQ4PEBESEw==",
           "dtype": "i1"
          },
          "value": {
           "bdata": "zczMzMzEu0AUrkfhejmxQOF6FK5H9ZhAFK5H4Xo4kUCPwvUoXI9AQLgehetRuBZA4XoUrkedkEDXo3A9CieGQNejcD0KJ3ZAAAAAAACoq0AAAAAAAHCnQAAAAAAA4IBAAAAAAABAb0AAAAAAAMByQAAAAAAAAGlAAAAAAAAAXkB7FK5H4fovQK5H4XoUru8/AAAAAAAALkA=",
           "dtype": "f8"
          }
         },
         "node": {
          "color": [
           "blue",
           "blue",
           "blue",
           "red",
           "orange",
           "orange",
           "orange",
           "green",
           "green",
           "green",
           "green",
           "green",
           "green",
           "yellow",
           "yellow",
           "yellow",
           "yellow",
           "purple",
           "purple",
           "purple"
          ],
          "label": [
           "Salary",
           "Income",
           "Net Income",
           "Taxes",
           "Benefits",
           "Dental",
           "Vision",
           "401k",
           "401k Pre-tax",
           "401k Roth",
           "Net Savings",
           "HYSA",
           "Roth IRA",
           "Gas",
           "Dates",
           "Misc",
           "Food",
           "Subscriptions",
           "iCloud",
           "Audible"
          ],
          "line": {
           "color": "black",
           "width": 0.5
          },
          "pad": 10,
          "thickness": 20
         },
         "orientation": "h",
         "type": "sankey",
         "valueformat": ".2f"
        }
       ],
       "layout": {
        "font": {
         "size": 12
        },
        "height": 900,
        "template": {
         "data": {
          "bar": [
           {
            "error_x": {
             "color": "#2a3f5f"
            },
            "error_y": {
             "color": "#2a3f5f"
            },
            "marker": {
             "line": {
              "color": "#E5ECF6",
              "width": 0.5
             },
             "pattern": {
              "fillmode": "overlay",
              "size": 10,
              "solidity": 0.2
             }
            },
            "type": "bar"
           }
          ],
          "barpolar": [
           {
            "marker": {
             "line": {
              "color": "#E5ECF6",
              "width": 0.5
             },
             "pattern": {
              "fillmode": "overlay",
              "size": 10,
              "solidity": 0.2
             }
            },
            "type": "barpolar"
           }
          ],
          "carpet": [
           {
            "aaxis": {
             "endlinecolor": "#2a3f5f",
             "gridcolor": "white",
             "linecolor": "white",
             "minorgridcolor": "white",
             "startlinecolor": "#2a3f5f"
            },
            "baxis": {
             "endlinecolor": "#2a3f5f",
             "gridcolor": "white",
             "linecolor": "white",
             "minorgridcolor": "white",
             "startlinecolor": "#2a3f5f"
            },
            "type": "carpet"
           }
          ],
          "choropleth": [
           {
            "colorbar": {
             "outlinewidth": 0,
             "ticks": ""
            },
            "type": "choropleth"
           }
          ],
          "contour": [
           {
            "colorbar": {
             "outlinewidth": 0,
             "ticks": ""
            },
            "colorscale": [
             [
              0,
              "#0d0887"
             ],
             [
              0.1111111111111111,
              "#46039f"
             ],
             [
              0.2222222222222222,
              "#7201a8"
             ],
             [
              0.3333333333333333,
              "#9c179e"
             ],
             [
              0.4444444444444444,
              "#bd3786"
             ],
             [
              0.5555555555555556,
              "#d8576b"
             ],
             [
              0.6666666666666666,
              "#ed7953"
             ],
             [
              0.7777777777777778,
              "#fb9f3a"
             ],
             [
              0.8888888888888888,
              "#fdca26"
             ],
             [
              1,
              "#f0f921"
             ]
            ],
            "type": "contour"
           }
          ],
          "contourcarpet": [
           {
            "colorbar": {
             "outlinewidth": 0,
             "ticks": ""
            },
            "type": "contourcarpet"
           }
          ],
          "heatmap": [
           {
            "colorbar": {
             "outlinewidth": 0,
             "ticks": ""
            },
            "colorscale": [
             [
              0,
              "#0d0887"
             ],
             [
              0.1111111111111111,
              "#46039f"
             ],
             [
              0.2222222222222222,
              "#7201a8"
             ],
             [
              0.3333333333333333,
              "#9c179e"
             ],
             [
              0.4444444444444444,
              "#bd3786"
             ],
             [
              0.5555555555555556,
              "#d8576b"
             ],
             [
              0.6666666666666666,
              "#ed7953"
             ],
             [
              0.7777777777777778,
              "#fb9f3a"
             ],
             [
              0.8888888888888888,
              "#fdca26"
             ],
             [
              1,
              "#f0f921"
             ]
            ],
            "type": "heatmap"
           }
          ],
          "histogram": [
           {
            "marker": {
             "pattern": {
              "fillmode": "overlay",
              "size": 10,
              "solidity": 0.2
             }
            },
            "type": "histogram"
           }
          ],
          "histogram2d": [
           {
            "colorbar": {
             "outlinewidth": 0,
             "ticks": ""
            },
            "colorscale": [
             [
              0,
              "#0d0887"
             ],
             [
              0.1111111111111111,
              "#46039f"
             ],
             [
              0.2222222222222222,
              "#7201a8"
             ],
             [
              0.3333333333333333,
              "#9c179e"
             ],
             [
              0.4444444444444444,
              "#bd3786"
             ],
             [
              0.5555555555555556,
              "#d8576b"
             ],
             [
              0.6666666666666666,
              "#ed7953"
             ],
             [
              0.7777777777777778,
              "#fb9f3a"
             ],
             [
              0.8888888888888888,
              "#fdca26"
             ],
             [
              1,
              "#f0f921"
             ]
            ],
            "type": "histogram2d"
           }
          ],
          "histogram2dcontour": [
           {
            "colorbar": {
             "outlinewidth": 0,
             "ticks": ""
            },
            "colorscale": [
             [
              0,
              "#0d0887"
             ],
             [
              0.1111111111111111,
              "#46039f"
             ],
             [
              0.2222222222222222,
              "#7201a8"
             ],
             [
              0.3333333333333333,
              "#9c179e"
             ],
             [
              0.4444444444444444,
              "#bd3786"
             ],
             [
              0.5555555555555556,
              "#d8576b"
             ],
             [
              0.6666666666666666,
              "#ed7953"
             ],
             [
              0.7777777777777778,
              "#fb9f3a"
             ],
             [
              0.8888888888888888,
              "#fdca26"
             ],
             [
              1,
              "#f0f921"
             ]
            ],
            "type": "histogram2dcontour"
           }
          ],
          "mesh3d": [
           {
            "colorbar": {
             "outlinewidth": 0,
             "ticks": ""
            },
            "type": "mesh3d"
           }
          ],
          "parcoords": [
           {
            "line": {
             "colorbar": {
              "outlinewidth": 0,
              "ticks": ""
             }
            },
            "type": "parcoords"
           }
          ],
          "pie": [
           {
            "automargin": true,
            "type": "pie"
           }
          ],
          "scatter": [
           {
            "fillpattern": {
             "fillmode": "overlay",
             "size": 10,
             "solidity": 0.2
            },
            "type": "scatter"
           }
          ],
          "scatter3d": [
           {
            "line": {
             "colorbar": {
              "outlinewidth": 0,
              "ticks": ""
             }
            },
            "marker": {
             "colorbar": {
              "outlinewidth": 0,
              "ticks": ""
             }
            },
            "type": "scatter3d"
           }
          ],
          "scattercarpet": [
           {
            "marker": {
             "colorbar": {
              "outlinewidth": 0,
              "ticks": ""
             }
            },
            "type": "scattercarpet"
           }
          ],
          "scattergeo": [
           {
            "marker": {
             "colorbar": {
              "outlinewidth": 0,
              "ticks": ""
             }
            },
            "type": "scattergeo"
           }
          ],
          "scattergl": [
           {
            "marker": {
             "colorbar": {
              "outlinewidth": 0,
              "ticks": ""
             }
            },
            "type": "scattergl"
           }
          ],
          "scattermap": [
           {
            "marker": {
             "colorbar": {
              "outlinewidth": 0,
              "ticks": ""
             }
            },
            "type": "scattermap"
           }
          ],
          "scattermapbox": [
           {
            "marker": {
             "colorbar": {
              "outlinewidth": 0,
              "ticks": ""
             }
            },
            "type": "scattermapbox"
           }
          ],
          "scatterpolar": [
           {
            "marker": {
             "colorbar": {
              "outlinewidth": 0,
              "ticks": ""
             }
            },
            "type": "scatterpolar"
           }
          ],
          "scatterpolargl": [
           {
            "marker": {
             "colorbar": {
              "outlinewidth": 0,
              "ticks": ""
             }
            },
            "type": "scatterpolargl"
           }
          ],
          "scatterternary": [
           {
            "marker": {
             "colorbar": {
              "outlinewidth": 0,
              "ticks": ""
             }
            },
            "type": "scatterternary"
           }
          ],
          "surface": [
           {
            "colorbar": {
             "outlinewidth": 0,
             "ticks": ""
            },
            "colorscale": [
             [
              0,
              "#0d0887"
             ],
             [
              0.1111111111111111,
              "#46039f"
             ],
             [
              0.2222222222222222,
              "#7201a8"
             ],
             [
              0.3333333333333333,
              "#9c179e"
             ],
             [
              0.4444444444444444,
              "#bd3786"
             ],
             [
              0.5555555555555556,
              "#d8576b"
             ],
             [
              0.6666666666666666,
              "#ed7953"
             ],
             [
              0.7777777777777778,
              "#fb9f3a"
             ],
             [
              0.8888888888888888,
              "#fdca26"
             ],
             [
              1,
              "#f0f921"
             ]
            ],
            "type": "surface"
           }
          ],
          "table": [
           {
            "cells": {
             "fill": {
              "color": "#EBF0F8"
             },
             "line": {
              "color": "white"
             }
            },
            "header": {
             "fill": {
              "color": "#C8D4E3"
             },
             "line": {
              "color": "white"
             }
            },
            "type": "table"
           }
          ]
         },
         "layout": {
          "annotationdefaults": {
           "arrowcolor": "#2a3f5f",
           "arrowhead": 0,
           "arrowwidth": 1
          },
          "autotypenumbers": "strict",
          "coloraxis": {
           "colorbar": {
            "outlinewidth": 0,
            "ticks": ""
           }
          },
          "colorscale": {
           "diverging": [
            [
             0,
             "#8e0152"
            ],
            [
             0.1,
             "#c51b7d"
            ],
            [
             0.2,
             "#de77ae"
            ],
            [
             0.3,
             "#f1b6da"
            ],
            [
             0.4,
             "#fde0ef"
            ],
            [
             0.5,
             "#f7f7f7"
            ],
            [
             0.6,
             "#e6f5d0"
            ],
            [
             0.7,
             "#b8e186"
            ],
            [
             0.8,
             "#7fbc41"
            ],
            [
             0.9,
             "#4d9221"
            ],
            [
             1,
             "#276419"
            ]
           ],
           "sequential": [
            [
             0,
             "#0d0887"
            ],
            [
             0.1111111111111111,
             "#46039f"
            ],
            [
             0.2222222222222222,
             "#7201a8"
            ],
            [
             0.3333333333333333,
             "#9c179e"
            ],
            [
             0.4444444444444444,
             "#bd3786"
            ],
            [
             0.5555555555555556,
             "#d8576b"
            ],
            [
             0.6666666666666666,
             "#ed7953"
            ],
            [
             0.7777777777777778,
             "#fb9f3a"
            ],
            [
             0.8888888888888888,
             "#fdca26"
            ],
            [
             1,
             "#f0f921"
            ]
           ],
           "sequentialminus": [
            [
             0,
             "#0d0887"
            ],
            [
             0.1111111111111111,
             "#46039f"
            ],
            [
             0.2222222222222222,
             "#7201a8"
            ],
            [
             0.3333333333333333,
             "#9c179e"
            ],
            [
             0.4444444444444444,
             "#bd3786"
            ],
            [
             0.5555555555555556,
             "#d8576b"
            ],
            [
             0.6666666666666666,
             "#ed7953"
            ],
            [
             0.7777777777777778,
             "#fb9f3a"
            ],
            [
             0.8888888888888888,
             "#fdca26"
            ],
            [
             1,
             "#f0f921"
            ]
           ]
          },
          "colorway": [
           "#636efa",
           "#EF553B",
           "#00cc96",
           "#ab63fa",
           "#FFA15A",
           "#19d3f3",
           "#FF6692",
           "#B6E880",
           "#FF97FF",
           "#FECB52"
          ],
          "font": {
           "color": "#2a3f5f"
          },
          "geo": {
           "bgcolor": "white",
           "lakecolor": "white",
           "landcolor": "#E5ECF6",
           "showlakes": true,
           "showland": true,
           "subunitcolor": "white"
          },
          "hoverlabel": {
           "align": "left"
          },
          "hovermode": "closest",
          "mapbox": {
           "style": "light"
          },
          "paper_bgcolor": "white",
          "plot_bgcolor": "#E5ECF6",
          "polar": {
           "angularaxis": {
            "gridcolor": "white",
            "linecolor": "white",
            "ticks": ""
           },
           "bgcolor": "#E5ECF6",
           "radialaxis": {
            "gridcolor": "white",
            "linecolor": "white",
            "ticks": ""
           }
          },
          "scene": {
           "xaxis": {
            "backgroundcolor": "#E5ECF6",
            "gridcolor": "white",
            "gridwidth": 2,
            "linecolor": "white",
            "showbackground": true,
            "ticks": "",
            "zerolinecolor": "white"
           },
           "yaxis": {
            "backgroundcolor": "#E5ECF6",
            "gridcolor": "white",
            "gridwidth": 2,
            "linecolor": "white",
            "showbackground": true,
            "ticks": "",
            "zerolinecolor": "white"
           },
           "zaxis": {
            "backgroundcolor": "#E5ECF6",
            "gridcolor": "white",
            "gridwidth": 2,
            "linecolor": "white",
            "showbackground": true,
            "ticks": "",
            "zerolinecolor": "white"
           }
          },
          "shapedefaults": {
           "line": {
            "color": "#2a3f5f"
           }
          },
          "ternary": {
           "aaxis": {
            "gridcolor": "white",
            "linecolor": "white",
            "ticks": ""
           },
           "baxis": {
            "gridcolor": "white",
            "linecolor": "white",
            "ticks": ""
           },
           "bgcolor": "#E5ECF6",
           "caxis": {
            "gridcolor": "white",
            "linecolor": "white",
            "ticks": ""
           }
          },
          "title": {
           "x": 0.05
          },
          "xaxis": {
           "automargin": true,
           "gridcolor": "white",
           "linecolor": "white",
           "ticks": "",
           "title": {
            "standoff": 15
           },
           "zerolinecolor": "white",
           "zerolinewidth": 2
          },
          "yaxis": {
           "automargin": true,
           "gridcolor": "white",
           "linecolor": "white",
           "ticks": "",
           "title": {
            "standoff": 15
           },
           "zerolinecolor": "white",
           "zerolinewidth": 2
          }
         }
        },
        "title": {
         "text": "\n    Monthly Income=$7,108.80; Annual=$92,414.40\n    "
        },
        "width": 1350
       }
      }
     },
     "metadata": {},
     "output_type": "display_data"
    }
   ],
   "source": [
    "fig = go.Figure(\n",
    "    data=[\n",
    "        go.Sankey(\n",
    "            orientation=\"h\",\n",
    "            valueformat=\".2f\",\n",
    "            arrangement=\"snap\",\n",
    "            node=dict(\n",
    "                pad=10,\n",
    "                thickness=20,\n",
    "                line=dict(color=\"black\", width=0.5),\n",
    "                label=node_df[\"Label\"],\n",
    "                color=node_df[\"Color\"],\n",
    "            ),\n",
    "            link=dict(\n",
    "                source=link_df[\"Source\"],\n",
    "                target=link_df[\"Target\"],\n",
    "                value=link_df[\"Value\"],\n",
    "            ),\n",
    "        )\n",
    "    ]\n",
    ")\n",
    "\n",
    "height = 900\n",
    "width = height * 1.5\n",
    "\n",
    "# TODO: add legend for colors?\n",
    "fig.update_layout(\n",
    "    title_text=f\"\"\"\n",
    "    Monthly Income=${monthly_salary:,.2f}; Annual=${weekly_salary*52:,.2f}\n",
    "    \"\"\",\n",
    "    font_size=12,\n",
    "    height=height,\n",
    "    width=width,\n",
    ")\n",
    "\n",
    "fig.show()"
   ]
  },
  {
   "cell_type": "markdown",
   "metadata": {},
   "source": [
    "## Save the contents"
   ]
  },
  {
   "cell_type": "code",
   "execution_count": 18,
   "metadata": {},
   "outputs": [
    {
     "name": "stdout",
     "output_type": "stream",
     "text": [
      "Chart saved as: images/20250331_16/sankey_chart\n"
     ]
    }
   ],
   "source": [
    "now = datetime.datetime.now()\n",
    "timestamp = now.strftime(\"%Y%m%d_%H\")  # Format: YYYYMMDD_HH\n",
    "\n",
    "# Construct the filename\n",
    "base = Path(\"images\") / timestamp\n",
    "base.mkdir(exist_ok=True, parents=True)\n",
    "\n",
    "filename = base / \"sankey_chart\"\n",
    "\n",
    "# Save the chart as an SVG file\n",
    "fig.write_html(filename.with_suffix(\".html\"))\n",
    "fig.write_image(filename.with_suffix(\".svg\"))\n",
    "fig.write_image(filename.with_suffix(\".png\"))\n",
    "\n",
    "print(f\"Chart saved as: {filename}\")"
   ]
  }
 ],
 "metadata": {
  "kernelspec": {
   "display_name": "venv",
   "language": "python",
   "name": "python3"
  },
  "language_info": {
   "codemirror_mode": {
    "name": "ipython",
    "version": 3
   },
   "file_extension": ".py",
   "mimetype": "text/x-python",
   "name": "python",
   "nbconvert_exporter": "python",
   "pygments_lexer": "ipython3",
   "version": "3.13.1"
  }
 },
 "nbformat": 4,
 "nbformat_minor": 4
}
